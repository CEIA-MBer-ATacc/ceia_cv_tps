{
 "cells": [
  {
   "cell_type": "code",
   "execution_count": null,
   "id": "8065264f",
   "metadata": {},
   "outputs": [],
   "source": [
    "#Si queremos que las imágenes sean mostradas en una ventana emergente quitar el inline\n",
    "# %matplotlib inline\n",
    "%matplotlib qt\n",
    "import numpy as np\n",
    "import cv2 as cv\n",
    "import os\n",
    "from typing import List\n",
    "import matplotlib.pyplot as plt"
   ]
  },
  {
   "cell_type": "code",
   "execution_count": null,
   "id": "f3e958de",
   "metadata": {},
   "outputs": [],
   "source": [
    "def custom_pyramid(img, scales: List[float]) -> list:\n",
    "    img_copy = img.copy()\n",
    "\n",
    "    resized_imgs = list()\n",
    "\n",
    "    # generamos nuestra \"piramide\" de tamaños arbitrarios\n",
    "    for scale in scales:\n",
    "        resized_imgs.append(cv.resize(img_copy, None, fx=scale, fy=scale))\n",
    "        \n",
    "    return resized_imgs"
   ]
  },
  {
   "cell_type": "code",
   "execution_count": null,
   "id": "45db163a",
   "metadata": {},
   "outputs": [],
   "source": [
    "# Ruta de la carpeta con las imágenes\n",
    "directorio = \"./images\"\n",
    "\n",
    "# Lista para guardar las imágenes en gris\n",
    "imagenes_gris = []\n",
    "\n",
    "# Recorremos los archivos del directorio\n",
    "for archivo in os.listdir(directorio):\n",
    "    ruta_completa = os.path.join(directorio, archivo)\n",
    "\n",
    "    # Verificamos que sea un archivo y termine en una extensión de imagen\n",
    "    if os.path.isfile(ruta_completa) and archivo.lower().endswith(('.png', '.jpg')):\n",
    "        img = cv.imread(ruta_completa, cv.IMREAD_GRAYSCALE)\n",
    "        if img is not None:\n",
    "            imagenes_gris.append(img)\n",
    "        else:\n",
    "            print(f\"No se pudo leer la imagen: {archivo}\")\n",
    "\n",
    "print(f\"Se leyeron {len(imagenes_gris)} imágenes en blanco y negro\")"
   ]
  },
  {
   "cell_type": "code",
   "execution_count": null,
   "id": "b0514667",
   "metadata": {},
   "outputs": [],
   "source": [
    "img_aux = []\n",
    "for img4 in imagenes_gris:\n",
    "    img_aux.extend(custom_pyramid(img4, np.linspace(0.2, 2, 10)))\n",
    "imagenes_gris = img_aux"
   ]
  },
  {
   "cell_type": "code",
   "execution_count": null,
   "id": "5d32c7bd",
   "metadata": {},
   "outputs": [],
   "source": [
    "template = cv.imread('./template/pattern.png',0)"
   ]
  },
  {
   "cell_type": "code",
   "execution_count": null,
   "id": "117ab3ff",
   "metadata": {},
   "outputs": [],
   "source": [
    "template_list = custom_pyramid(template, np.linspace(0.2, 2, 10))"
   ]
  },
  {
   "cell_type": "code",
   "execution_count": null,
   "id": "06d223b8",
   "metadata": {},
   "outputs": [],
   "source": [
    "len(template_list)"
   ]
  },
  {
   "cell_type": "code",
   "execution_count": 56,
   "id": "ff8c0720",
   "metadata": {},
   "outputs": [],
   "source": [
    "def match_template(img3, template):\n",
    "    img_copy1 = img3.copy()\n",
    "    template_copy = template.copy()\n",
    "    w, h = template.shape[::-1]\n",
    "\n",
    "    # --- Desenfoque Gaussiano ---\n",
    "    img_blur = cv.GaussianBlur(img_copy1, (5,5), 0)\n",
    "    template_blur = cv.GaussianBlur(template_copy, (5,5), 0)\n",
    "\n",
    "    # --- Bordes con Canny ---\n",
    "    img_edges = cv.Canny(img_blur, 50, 150)\n",
    "    template_edges = cv.Canny(template_blur, 50, 150)\n",
    "\n",
    "\n",
    "    # print(f\"Buscando plantilla de tamaño {template_edges.shape[0]}x{template_edges.shape[1]} en imagen de tamaño {img_edges.shape[0]}x{img_edges.shape[1]}\")\n",
    "    res = cv.matchTemplate(img_edges, template_edges, cv.TM_CCOEFF_NORMED)\n",
    "    # Fijamos un umbral de \"coincidencia\"\n",
    "\n",
    "    threshold = 0.1\n",
    "    flag = False\n",
    "    loc = np.where( res >= threshold)\n",
    "    for pt in zip(*loc[::-1]):\n",
    "        cv.rectangle(img_copy1, pt, (pt[0] + w, pt[1] + h), (0,0,255), 2)\n",
    "        flag = True\n",
    "    \n",
    "    if flag:\n",
    "        return img_copy1\n",
    "    else:\n",
    "        return None"
   ]
  },
  {
   "cell_type": "code",
   "execution_count": 57,
   "id": "bd4b6047",
   "metadata": {},
   "outputs": [],
   "source": [
    "def search_template(img1, template_list):\n",
    "    img_copy5 = img1.copy()\n",
    "\n",
    "    result = []\n",
    "    for i, template in enumerate(template_list):\n",
    "        try:\n",
    "            img9 = match_template(img_copy5, template)\n",
    "            if img9 is not None:\n",
    "                result.append(img9)\n",
    "            # cv.imshow(f'Template Level {i}', img_copy)\n",
    "            # cv.waitKey(0)\n",
    "        except Exception as e:\n",
    "            # print(f\"Error processing template level {i}: {e}\")\n",
    "            continue\n",
    "    return result"
   ]
  },
  {
   "cell_type": "code",
   "execution_count": 58,
   "id": "0c046814",
   "metadata": {},
   "outputs": [],
   "source": [
    "def run_all_img(img_list, template_list):\n",
    "    result = []\n",
    "    for img2 in img_list:\n",
    "        result.extend(search_template(img2, template_list))\n",
    "    return result"
   ]
  },
  {
   "cell_type": "code",
   "execution_count": 59,
   "id": "3287aed2",
   "metadata": {},
   "outputs": [],
   "source": [
    "r = run_all_img(imagenes_gris, template_list)"
   ]
  },
  {
   "cell_type": "code",
   "execution_count": 60,
   "id": "24f84e9a",
   "metadata": {},
   "outputs": [
    {
     "data": {
      "text/plain": [
       "158"
      ]
     },
     "execution_count": 60,
     "metadata": {},
     "output_type": "execute_result"
    }
   ],
   "source": [
    "len(r)"
   ]
  },
  {
   "cell_type": "code",
   "execution_count": 64,
   "id": "406399f3",
   "metadata": {},
   "outputs": [],
   "source": [
    "cv.imshow(f'Template Level', r[3])"
   ]
  }
 ],
 "metadata": {
  "kernelspec": {
   "display_name": ".venv (3.12.8)",
   "language": "python",
   "name": "python3"
  },
  "language_info": {
   "codemirror_mode": {
    "name": "ipython",
    "version": 3
   },
   "file_extension": ".py",
   "mimetype": "text/x-python",
   "name": "python",
   "nbconvert_exporter": "python",
   "pygments_lexer": "ipython3",
   "version": "3.12.8"
  }
 },
 "nbformat": 4,
 "nbformat_minor": 5
}
