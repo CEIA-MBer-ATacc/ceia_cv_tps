{
 "cells": [
  {
   "cell_type": "code",
   "execution_count": 52,
   "id": "8065264f",
   "metadata": {},
   "outputs": [],
   "source": [
    "#Si queremos que las imágenes sean mostradas en una ventana emergente quitar el inline\n",
    "# %matplotlib inline\n",
    "%matplotlib qt\n",
    "import numpy as np\n",
    "import cv2 as cv\n",
    "import os\n",
    "from typing import List\n",
    "import matplotlib.pyplot as plt"
   ]
  },
  {
   "cell_type": "code",
   "execution_count": 53,
   "id": "f3e958de",
   "metadata": {},
   "outputs": [],
   "source": [
    "def custom_pyramid(img, scales: List[float]) -> list:\n",
    "    img_copy = img.copy()\n",
    "\n",
    "    resized_imgs = list()\n",
    "\n",
    "    # generamos nuestra \"piramide\" de tamaños arbitrarios\n",
    "    for scale in scales:\n",
    "        resized_imgs.append(cv.resize(img_copy, None, fx=scale, fy=scale))\n",
    "        \n",
    "    return resized_imgs"
   ]
  },
  {
   "cell_type": "code",
   "execution_count": 54,
   "id": "45db163a",
   "metadata": {},
   "outputs": [
    {
     "name": "stdout",
     "output_type": "stream",
     "text": [
      "Se leyeron 7 imágenes en blanco y negro\n"
     ]
    }
   ],
   "source": [
    "# Ruta de la carpeta con las imágenes\n",
    "directorio = \"./images\"\n",
    "\n",
    "# Lista para guardar las imágenes en gris\n",
    "imagenes_gris = []\n",
    "\n",
    "# Recorremos los archivos del directorio\n",
    "for archivo in os.listdir(directorio):\n",
    "    ruta_completa = os.path.join(directorio, archivo)\n",
    "\n",
    "    # Verificamos que sea un archivo y termine en una extensión de imagen\n",
    "    if os.path.isfile(ruta_completa) and archivo.lower().endswith(('.png', '.jpg')):\n",
    "        img = cv.imread(ruta_completa, cv.IMREAD_GRAYSCALE)\n",
    "        if img is not None:\n",
    "            imagenes_gris.append(img)\n",
    "        else:\n",
    "            print(f\"No se pudo leer la imagen: {archivo}\")\n",
    "\n",
    "print(f\"Se leyeron {len(imagenes_gris)} imágenes en blanco y negro\")"
   ]
  },
  {
   "cell_type": "code",
   "execution_count": 55,
   "id": "b0514667",
   "metadata": {},
   "outputs": [],
   "source": [
    "# img_aux = []\n",
    "# for img4 in imagenes_gris:\n",
    "#     img_aux.extend(custom_pyramid(img4, np.linspace(0.2, 2, 10)))\n",
    "# imagenes_gris = img_aux"
   ]
  },
  {
   "cell_type": "code",
   "execution_count": 56,
   "id": "5d32c7bd",
   "metadata": {},
   "outputs": [],
   "source": [
    "template = cv.imread('./template/pattern.png',0)"
   ]
  },
  {
   "cell_type": "code",
   "execution_count": 57,
   "id": "117ab3ff",
   "metadata": {},
   "outputs": [],
   "source": [
    "template_list = custom_pyramid(template, np.linspace(0.2, 2, 10))"
   ]
  },
  {
   "cell_type": "code",
   "execution_count": 58,
   "id": "06d223b8",
   "metadata": {},
   "outputs": [
    {
     "data": {
      "text/plain": [
       "10"
      ]
     },
     "execution_count": 58,
     "metadata": {},
     "output_type": "execute_result"
    }
   ],
   "source": [
    "len(template_list)"
   ]
  },
  {
   "cell_type": "code",
   "execution_count": 59,
   "id": "ff8c0720",
   "metadata": {},
   "outputs": [],
   "source": [
    "def match_template(img3, template):\n",
    "    img_copy1 = img3.copy()\n",
    "    template_copy = template.copy()\n",
    "    w, h = template.shape[::-1]\n",
    "\n",
    "    # --- Desenfoque Gaussiano ---\n",
    "    img_blur = cv.GaussianBlur(img_copy1, (5,5), 0)\n",
    "    template_blur = cv.GaussianBlur(template_copy, (5,5), 0)\n",
    "\n",
    "    # --- Bordes con Canny ---\n",
    "    img_edges = cv.Canny(img_blur, 50, 150)\n",
    "    template_edges = cv.Canny(template_blur, 50, 150)\n",
    "\n",
    "\n",
    "    # print(f\"Buscando plantilla de tamaño {template_edges.shape[0]}x{template_edges.shape[1]} en imagen de tamaño {img_edges.shape[0]}x{img_edges.shape[1]}\")\n",
    "    res = cv.matchTemplate(img_edges, template_edges, cv.TM_CCOEFF_NORMED)\n",
    "    # Fijamos un umbral de \"coincidencia\"\n",
    "\n",
    "    threshold = 0.2\n",
    "    flag = False\n",
    "    loc = np.where( res >= threshold)\n",
    "    for pt in zip(*loc[::-1]):\n",
    "        cv.rectangle(img_copy1, pt, (pt[0] + w, pt[1] + h), (0,0,255), 2)\n",
    "        flag = True\n",
    "    \n",
    "    if flag:\n",
    "        return img_copy1\n",
    "    else:\n",
    "        return None"
   ]
  },
  {
   "cell_type": "code",
   "execution_count": 60,
   "id": "06729ae6",
   "metadata": {},
   "outputs": [],
   "source": [
    "def match_template2(img, template):\n",
    "    # --- Preprocesar template ---\n",
    "    template = template.copy()\n",
    "    template_gray = cv.cvtColor(template, cv.COLOR_BGR2GRAY)\n",
    "    template_blur = cv.GaussianBlur(template_gray, (5,5), 0)\n",
    "    template_edges = cv.Canny(template_blur, 40, 160)\n",
    "\n",
    "    h, w = template_edges.shape\n",
    "    best_val = -1\n",
    "    best_loc = None\n",
    "    best_scale = None\n",
    "    best_result = None\n",
    "\n",
    "    # --- Recorrer pirámide de escalas ---\n",
    "    for scale in np.linspace(0.25, 3, 40):\n",
    "        resized = cv.resize(img, None, fx=scale, fy=scale)\n",
    "        if resized.shape[0] < h or resized.shape[1] < w:\n",
    "            continue  # saltar si el template no entra en la imagen\n",
    "\n",
    "        # Preprocesar imagen escalada\n",
    "        img_gray = cv.cvtColor(resized, cv.COLOR_BGR2GRAY)\n",
    "        img_blur = cv.GaussianBlur(img_gray, (5,5), 0)\n",
    "        img_edges = cv.Canny(img_blur, 40, 160)\n",
    "\n",
    "        # Matching\n",
    "        result = cv.matchTemplate(img_edges, template_edges, cv.TM_CCOEFF_NORMED)\n",
    "        min_val, max_val, min_loc, max_loc = cv.minMaxLoc(result)\n",
    "\n",
    "        if max_val > best_val:\n",
    "            best_val = max_val\n",
    "            best_loc = max_loc\n",
    "            best_scale = scale\n",
    "            best_result = resized.copy()\n",
    "\n",
    "    # --- Verificar antes de dibujar ---\n",
    "    if best_loc is not None:\n",
    "        top_left = best_loc\n",
    "        bottom_right = (top_left[0] + w, top_left[1] + h)\n",
    "        cv.rectangle(best_result, top_left, bottom_right, (255, 0, 0), 2)\n",
    "        print(f\"Mejor coincidencia: {best_val:.4f} en escala {best_scale:.2f}\")\n",
    "        # cv.imshow(\"Mejor resultado\", best_result)\n",
    "        # cv.waitKey(0)\n",
    "        # cv.destroyAllWindows()\n",
    "        return best_result\n",
    "    else:\n",
    "        print(\"No se encontró coincidencia.\")\n",
    "        return None"
   ]
  },
  {
   "cell_type": "code",
   "execution_count": 61,
   "id": "bd4b6047",
   "metadata": {},
   "outputs": [],
   "source": [
    "def search_template(img1, template_list):\n",
    "    img_copy5 = img1.copy()\n",
    "\n",
    "    result = []\n",
    "    for i, template in enumerate(template_list):\n",
    "        try:\n",
    "            img9 = match_template2(img_copy5, template)\n",
    "            if img9 is not None:\n",
    "                result.append(img9)\n",
    "            # cv.imshow(f'Template Level {i}', img_copy)\n",
    "            # cv.waitKey(0)\n",
    "        except Exception as e:\n",
    "            # print(f\"Error processing template level {i}: {e}\")\n",
    "            continue\n",
    "    return result"
   ]
  },
  {
   "cell_type": "code",
   "execution_count": 62,
   "id": "0c046814",
   "metadata": {},
   "outputs": [],
   "source": [
    "def run_all_img(img_list, template_list):\n",
    "    result = []\n",
    "    for img2 in img_list:\n",
    "        result.extend(search_template(img2, template_list))\n",
    "    return result"
   ]
  },
  {
   "cell_type": "code",
   "execution_count": 63,
   "id": "3287aed2",
   "metadata": {},
   "outputs": [],
   "source": [
    "r = run_all_img(imagenes_gris, template_list)"
   ]
  },
  {
   "cell_type": "code",
   "execution_count": 64,
   "id": "24f84e9a",
   "metadata": {},
   "outputs": [
    {
     "data": {
      "text/plain": [
       "0"
      ]
     },
     "execution_count": 64,
     "metadata": {},
     "output_type": "execute_result"
    }
   ],
   "source": [
    "len(r)"
   ]
  },
  {
   "cell_type": "code",
   "execution_count": 65,
   "id": "406399f3",
   "metadata": {},
   "outputs": [
    {
     "ename": "IndexError",
     "evalue": "list index out of range",
     "output_type": "error",
     "traceback": [
      "\u001b[31m---------------------------------------------------------------------------\u001b[39m",
      "\u001b[31mIndexError\u001b[39m                                Traceback (most recent call last)",
      "\u001b[36mCell\u001b[39m\u001b[36m \u001b[39m\u001b[32mIn[65]\u001b[39m\u001b[32m, line 1\u001b[39m\n\u001b[32m----> \u001b[39m\u001b[32m1\u001b[39m cv.imshow(\u001b[33mf\u001b[39m\u001b[33m'\u001b[39m\u001b[33mTemplate Level\u001b[39m\u001b[33m'\u001b[39m, \u001b[43mr\u001b[49m\u001b[43m[\u001b[49m\u001b[32;43m0\u001b[39;49m\u001b[43m]\u001b[49m)\n",
      "\u001b[31mIndexError\u001b[39m: list index out of range"
     ]
    }
   ],
   "source": [
    "cv.imshow(f'Template Level', r[0])"
   ]
  },
  {
   "cell_type": "code",
   "execution_count": null,
   "id": "e16f55f0",
   "metadata": {},
   "outputs": [],
   "source": []
  }
 ],
 "metadata": {
  "kernelspec": {
   "display_name": "env",
   "language": "python",
   "name": "python3"
  },
  "language_info": {
   "codemirror_mode": {
    "name": "ipython",
    "version": 3
   },
   "file_extension": ".py",
   "mimetype": "text/x-python",
   "name": "python",
   "nbconvert_exporter": "python",
   "pygments_lexer": "ipython3",
   "version": "3.13.3"
  }
 },
 "nbformat": 4,
 "nbformat_minor": 5
}
