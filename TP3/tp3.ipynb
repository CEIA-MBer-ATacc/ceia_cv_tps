{
 "cells": [
  {
   "cell_type": "code",
   "execution_count": 3,
   "id": "8065264f",
   "metadata": {},
   "outputs": [],
   "source": [
    "#Si queremos que las imágenes sean mostradas en una ventana emergente quitar el inline\n",
    "# %matplotlib inline\n",
    "%matplotlib qt\n",
    "import numpy as np\n",
    "import cv2 as cv\n",
    "import os\n",
    "import matplotlib.pyplot as plt"
   ]
  },
  {
   "cell_type": "code",
   "execution_count": 4,
   "id": "f3e958de",
   "metadata": {},
   "outputs": [],
   "source": [
    "def gaussian_pyramid(img, num_levels):\n",
    "    lower = img.copy()\n",
    "    gaussian_pyr = [lower]\n",
    "    for i in range(num_levels):\n",
    "        lower = cv.pyrDown(lower)\n",
    "        gaussian_pyr.append(np.float32(lower))\n",
    "    return gaussian_pyr"
   ]
  },
  {
   "cell_type": "code",
   "execution_count": 5,
   "id": "45db163a",
   "metadata": {},
   "outputs": [
    {
     "name": "stdout",
     "output_type": "stream",
     "text": [
      "Se leyeron 7 imágenes en blanco y negro\n"
     ]
    }
   ],
   "source": [
    "# Ruta de la carpeta con las imágenes\n",
    "directorio = \"./images\"\n",
    "\n",
    "# Lista para guardar las imágenes en gris\n",
    "imagenes_gris = []\n",
    "\n",
    "# Recorremos los archivos del directorio\n",
    "for archivo in os.listdir(directorio):\n",
    "    ruta_completa = os.path.join(directorio, archivo)\n",
    "\n",
    "    # Verificamos que sea un archivo y termine en una extensión de imagen\n",
    "    if os.path.isfile(ruta_completa) and archivo.lower().endswith(('.png', '.jpg')):\n",
    "        img = cv.imread(ruta_completa, cv.IMREAD_GRAYSCALE)\n",
    "        if img is not None:\n",
    "            imagenes_gris.append(img)\n",
    "        else:\n",
    "            print(f\"No se pudo leer la imagen: {archivo}\")\n",
    "\n",
    "print(f\"Se leyeron {len(imagenes_gris)} imágenes en blanco y negro\")"
   ]
  },
  {
   "cell_type": "code",
   "execution_count": 6,
   "id": "5d32c7bd",
   "metadata": {},
   "outputs": [],
   "source": [
    "template = cv.imread('./template/pattern.png',0)"
   ]
  },
  {
   "cell_type": "code",
   "execution_count": 7,
   "id": "117ab3ff",
   "metadata": {},
   "outputs": [],
   "source": [
    "template_list = gaussian_pyramid(template, 3)"
   ]
  },
  {
   "cell_type": "code",
   "execution_count": 8,
   "id": "06d223b8",
   "metadata": {},
   "outputs": [
    {
     "data": {
      "text/plain": [
       "4"
      ]
     },
     "execution_count": 8,
     "metadata": {},
     "output_type": "execute_result"
    }
   ],
   "source": [
    "len(template_list)"
   ]
  },
  {
   "cell_type": "code",
   "execution_count": 9,
   "id": "ff8c0720",
   "metadata": {},
   "outputs": [],
   "source": [
    "def match_template(img, template):\n",
    "    img_copy = img.copy()\n",
    "    res = cv.matchTemplate(img_copy, template, cv.TM_CCOEFF_NORMED)\n",
    "    # Fijamos un umbral de \"coincidencia\"\n",
    "\n",
    "    threshold = 0.75\n",
    "\n",
    "    loc = np.where( res >= threshold)\n",
    "    for pt in zip(*loc[::-1]):\n",
    "        cv.rectangle(img_copy, pt, (pt[0] + w, pt[1] + h), (0,0,255), 2)\n",
    "    \n",
    "    return img_copy"
   ]
  },
  {
   "cell_type": "code",
   "execution_count": 10,
   "id": "bd4b6047",
   "metadata": {},
   "outputs": [],
   "source": [
    "def search_template(img, template_list):\n",
    "    img_copy = img.copy()\n",
    "\n",
    "    for i, template in enumerate(template_list):\n",
    "        try:\n",
    "            img_copy = match_template(img_copy, template)\n",
    "            cv.imshow(f'Template Level {i}', img_copy)\n",
    "            cv.waitKey(0)\n",
    "        except Exception as e:\n",
    "            print(f\"Error processing template level {i}: {e}\")\n",
    "            continue\n"
   ]
  },
  {
   "cell_type": "code",
   "execution_count": 11,
   "id": "0c046814",
   "metadata": {},
   "outputs": [],
   "source": [
    "def run_all_img(img_list, template_list):\n",
    "    for img in img_list:\n",
    "        search_template(img, template_list)"
   ]
  },
  {
   "cell_type": "code",
   "execution_count": null,
   "id": "3287aed2",
   "metadata": {},
   "outputs": [],
   "source": [
    "run_all_img(imagenes_gris, template_list)"
   ]
  }
 ],
 "metadata": {
  "kernelspec": {
   "display_name": "env",
   "language": "python",
   "name": "python3"
  },
  "language_info": {
   "codemirror_mode": {
    "name": "ipython",
    "version": 3
   },
   "file_extension": ".py",
   "mimetype": "text/x-python",
   "name": "python",
   "nbconvert_exporter": "python",
   "pygments_lexer": "ipython3",
   "version": "3.13.3"
  }
 },
 "nbformat": 4,
 "nbformat_minor": 5
}
