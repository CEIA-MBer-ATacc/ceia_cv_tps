{
 "cells": [
  {
   "cell_type": "code",
   "execution_count": 29,
   "id": "8065264f",
   "metadata": {},
   "outputs": [],
   "source": [
    "#Si queremos que las imágenes sean mostradas en una ventana emergente quitar el inline\n",
    "# %matplotlib inline\n",
    "%matplotlib qt\n",
    "import numpy as np\n",
    "import cv2 as cv\n",
    "import os\n",
    "from typing import List\n",
    "import matplotlib.pyplot as plt"
   ]
  },
  {
   "cell_type": "code",
   "execution_count": 30,
   "id": "f3e958de",
   "metadata": {},
   "outputs": [],
   "source": [
    "def custom_pyramid(img, scales: List[float]) -> list:\n",
    "    img_copy = img.copy()\n",
    "\n",
    "    resized_imgs = list()\n",
    "\n",
    "    # generamos nuestra \"piramide\" de tamaños arbitrarios\n",
    "    for scale in scales:\n",
    "        resized_imgs.append(cv.resize(img_copy, None, fx=scale, fy=scale))\n",
    "        \n",
    "    return resized_imgs"
   ]
  },
  {
   "cell_type": "code",
   "execution_count": 31,
   "id": "45db163a",
   "metadata": {},
   "outputs": [
    {
     "name": "stdout",
     "output_type": "stream",
     "text": [
      "Se leyeron 7 imágenes en blanco y negro\n"
     ]
    }
   ],
   "source": [
    "# Ruta de la carpeta con las imágenes\n",
    "directorio = \"./images\"\n",
    "\n",
    "# Lista para guardar las imágenes en gris\n",
    "imagenes_gris = []\n",
    "\n",
    "# Recorremos los archivos del directorio\n",
    "for archivo in os.listdir(directorio):\n",
    "    ruta_completa = os.path.join(directorio, archivo)\n",
    "\n",
    "    # Verificamos que sea un archivo y termine en una extensión de imagen\n",
    "    if os.path.isfile(ruta_completa) and archivo.lower().endswith(('.png', '.jpg')):\n",
    "        img = cv.imread(ruta_completa, cv.IMREAD_GRAYSCALE)\n",
    "        if img is not None:\n",
    "            imagenes_gris.append(img)\n",
    "        else:\n",
    "            print(f\"No se pudo leer la imagen: {archivo}\")\n",
    "\n",
    "print(f\"Se leyeron {len(imagenes_gris)} imágenes en blanco y negro\")"
   ]
  },
  {
   "cell_type": "code",
   "execution_count": 33,
   "id": "5d32c7bd",
   "metadata": {},
   "outputs": [],
   "source": [
    "template = cv.imread('./template/pattern.png',0)"
   ]
  },
  {
   "cell_type": "code",
   "execution_count": 34,
   "id": "117ab3ff",
   "metadata": {},
   "outputs": [],
   "source": [
    "template_list = custom_pyramid(template, np.linspace(0.5, 2, 5))"
   ]
  },
  {
   "cell_type": "code",
   "execution_count": 35,
   "id": "06d223b8",
   "metadata": {},
   "outputs": [
    {
     "data": {
      "text/plain": [
       "5"
      ]
     },
     "execution_count": 35,
     "metadata": {},
     "output_type": "execute_result"
    }
   ],
   "source": [
    "len(template_list)"
   ]
  },
  {
   "cell_type": "code",
   "execution_count": 36,
   "id": "ff8c0720",
   "metadata": {},
   "outputs": [],
   "source": [
    "def match_template(img, template):\n",
    "    img_copy = img.copy()\n",
    "    template_copy = template.copy()\n",
    "\n",
    "    # --- Desenfoque Gaussiano ---\n",
    "    img_blur = cv.GaussianBlur(img_copy, (5,5), 0)\n",
    "    template_blur = cv.GaussianBlur(template_copy, (5,5), 0)\n",
    "\n",
    "    # --- Bordes con Canny ---\n",
    "    img_edges = cv.Canny(img_blur, 50, 150)\n",
    "    template_edges = cv.Canny(template_blur, 50, 150)\n",
    "\n",
    "\n",
    "    print(f\"Buscando plantilla de tamaño {template_edges.shape[0]}x{template_edges.shape[1]} en imagen de tamaño {img_edges.shape[0]}x{img_edges.shape[1]}\")\n",
    "    res = cv.matchTemplate(img_edges, template_edges, cv.TM_CCOEFF_NORMED)\n",
    "    # Fijamos un umbral de \"coincidencia\"\n",
    "\n",
    "    threshold = 0.75\n",
    "\n",
    "    loc = np.where( res >= threshold)\n",
    "    for pt in zip(*loc[::-1]):\n",
    "        cv.rectangle(img_copy, pt, (pt[0] + w, pt[1] + h), (0,0,255), 2)\n",
    "    \n",
    "    return img_copy"
   ]
  },
  {
   "cell_type": "code",
   "execution_count": 18,
   "id": "bd4b6047",
   "metadata": {},
   "outputs": [],
   "source": [
    "def search_template(img, template_list):\n",
    "    img_copy = img.copy()\n",
    "\n",
    "    for i, template in enumerate(template_list):\n",
    "        try:\n",
    "            img_copy = match_template(img_copy, template)\n",
    "            cv.imshow(f'Template Level {i}', img_copy)\n",
    "            # cv.waitKey(0)\n",
    "        except Exception as e:\n",
    "            print(f\"Error processing template level {i}: {e}\")\n",
    "            continue\n"
   ]
  },
  {
   "cell_type": "code",
   "execution_count": 19,
   "id": "0c046814",
   "metadata": {},
   "outputs": [],
   "source": [
    "def run_all_img(img_list, template_list):\n",
    "    for img in img_list:\n",
    "        search_template(img, template_list)"
   ]
  },
  {
   "cell_type": "code",
   "execution_count": 23,
   "id": "3287aed2",
   "metadata": {},
   "outputs": [
    {
     "name": "stdout",
     "output_type": "stream",
     "text": [
      "Buscando plantilla de tamaño 175x400 en imagen de tamaño 1389x1389\n",
      "Error processing template level 1: OpenCV(4.11.0) D:\\a\\opencv-python\\opencv-python\\opencv\\modules\\imgproc\\src\\canny.cpp:829: error: (-215:Assertion failed) _src.depth() == CV_8U in function 'cv::Canny'\n",
      "\n",
      "Error processing template level 2: OpenCV(4.11.0) D:\\a\\opencv-python\\opencv-python\\opencv\\modules\\imgproc\\src\\canny.cpp:829: error: (-215:Assertion failed) _src.depth() == CV_8U in function 'cv::Canny'\n",
      "\n",
      "Error processing template level 3: OpenCV(4.11.0) D:\\a\\opencv-python\\opencv-python\\opencv\\modules\\imgproc\\src\\canny.cpp:829: error: (-215:Assertion failed) _src.depth() == CV_8U in function 'cv::Canny'\n",
      "\n",
      "Buscando plantilla de tamaño 175x400 en imagen de tamaño 500x207\n",
      "Error processing template level 0: OpenCV(4.11.0) D:\\a\\opencv-python\\opencv-python\\opencv\\modules\\imgproc\\src\\templmatch.cpp:1175: error: (-215:Assertion failed) _img.size().height <= _templ.size().height && _img.size().width <= _templ.size().width in function 'cv::matchTemplate'\n",
      "\n",
      "Error processing template level 1: OpenCV(4.11.0) D:\\a\\opencv-python\\opencv-python\\opencv\\modules\\imgproc\\src\\canny.cpp:829: error: (-215:Assertion failed) _src.depth() == CV_8U in function 'cv::Canny'\n",
      "\n",
      "Error processing template level 2: OpenCV(4.11.0) D:\\a\\opencv-python\\opencv-python\\opencv\\modules\\imgproc\\src\\canny.cpp:829: error: (-215:Assertion failed) _src.depth() == CV_8U in function 'cv::Canny'\n",
      "\n",
      "Error processing template level 3: OpenCV(4.11.0) D:\\a\\opencv-python\\opencv-python\\opencv\\modules\\imgproc\\src\\canny.cpp:829: error: (-215:Assertion failed) _src.depth() == CV_8U in function 'cv::Canny'\n",
      "\n",
      "Buscando plantilla de tamaño 175x400 en imagen de tamaño 363x233\n",
      "Error processing template level 0: OpenCV(4.11.0) D:\\a\\opencv-python\\opencv-python\\opencv\\modules\\imgproc\\src\\templmatch.cpp:1175: error: (-215:Assertion failed) _img.size().height <= _templ.size().height && _img.size().width <= _templ.size().width in function 'cv::matchTemplate'\n",
      "\n",
      "Error processing template level 1: OpenCV(4.11.0) D:\\a\\opencv-python\\opencv-python\\opencv\\modules\\imgproc\\src\\canny.cpp:829: error: (-215:Assertion failed) _src.depth() == CV_8U in function 'cv::Canny'\n",
      "\n",
      "Error processing template level 2: OpenCV(4.11.0) D:\\a\\opencv-python\\opencv-python\\opencv\\modules\\imgproc\\src\\canny.cpp:829: error: (-215:Assertion failed) _src.depth() == CV_8U in function 'cv::Canny'\n",
      "\n",
      "Error processing template level 3: OpenCV(4.11.0) D:\\a\\opencv-python\\opencv-python\\opencv\\modules\\imgproc\\src\\canny.cpp:829: error: (-215:Assertion failed) _src.depth() == CV_8U in function 'cv::Canny'\n",
      "\n",
      "Buscando plantilla de tamaño 175x400 en imagen de tamaño 598x799\n",
      "Error processing template level 1: OpenCV(4.11.0) D:\\a\\opencv-python\\opencv-python\\opencv\\modules\\imgproc\\src\\canny.cpp:829: error: (-215:Assertion failed) _src.depth() == CV_8U in function 'cv::Canny'\n",
      "\n",
      "Error processing template level 2: OpenCV(4.11.0) D:\\a\\opencv-python\\opencv-python\\opencv\\modules\\imgproc\\src\\canny.cpp:829: error: (-215:Assertion failed) _src.depth() == CV_8U in function 'cv::Canny'\n",
      "\n",
      "Error processing template level 3: OpenCV(4.11.0) D:\\a\\opencv-python\\opencv-python\\opencv\\modules\\imgproc\\src\\canny.cpp:829: error: (-215:Assertion failed) _src.depth() == CV_8U in function 'cv::Canny'\n",
      "\n",
      "Buscando plantilla de tamaño 175x400 en imagen de tamaño 493x715\n",
      "Error processing template level 1: OpenCV(4.11.0) D:\\a\\opencv-python\\opencv-python\\opencv\\modules\\imgproc\\src\\canny.cpp:829: error: (-215:Assertion failed) _src.depth() == CV_8U in function 'cv::Canny'\n",
      "\n",
      "Error processing template level 2: OpenCV(4.11.0) D:\\a\\opencv-python\\opencv-python\\opencv\\modules\\imgproc\\src\\canny.cpp:829: error: (-215:Assertion failed) _src.depth() == CV_8U in function 'cv::Canny'\n",
      "\n",
      "Error processing template level 3: OpenCV(4.11.0) D:\\a\\opencv-python\\opencv-python\\opencv\\modules\\imgproc\\src\\canny.cpp:829: error: (-215:Assertion failed) _src.depth() == CV_8U in function 'cv::Canny'\n",
      "\n",
      "Buscando plantilla de tamaño 175x400 en imagen de tamaño 429x715\n",
      "Error processing template level 1: OpenCV(4.11.0) D:\\a\\opencv-python\\opencv-python\\opencv\\modules\\imgproc\\src\\canny.cpp:829: error: (-215:Assertion failed) _src.depth() == CV_8U in function 'cv::Canny'\n",
      "\n",
      "Error processing template level 2: OpenCV(4.11.0) D:\\a\\opencv-python\\opencv-python\\opencv\\modules\\imgproc\\src\\canny.cpp:829: error: (-215:Assertion failed) _src.depth() == CV_8U in function 'cv::Canny'\n",
      "\n",
      "Error processing template level 3: OpenCV(4.11.0) D:\\a\\opencv-python\\opencv-python\\opencv\\modules\\imgproc\\src\\canny.cpp:829: error: (-215:Assertion failed) _src.depth() == CV_8U in function 'cv::Canny'\n",
      "\n",
      "Buscando plantilla de tamaño 175x400 en imagen de tamaño 450x687\n",
      "Error processing template level 1: OpenCV(4.11.0) D:\\a\\opencv-python\\opencv-python\\opencv\\modules\\imgproc\\src\\canny.cpp:829: error: (-215:Assertion failed) _src.depth() == CV_8U in function 'cv::Canny'\n",
      "\n",
      "Error processing template level 2: OpenCV(4.11.0) D:\\a\\opencv-python\\opencv-python\\opencv\\modules\\imgproc\\src\\canny.cpp:829: error: (-215:Assertion failed) _src.depth() == CV_8U in function 'cv::Canny'\n",
      "\n",
      "Error processing template level 3: OpenCV(4.11.0) D:\\a\\opencv-python\\opencv-python\\opencv\\modules\\imgproc\\src\\canny.cpp:829: error: (-215:Assertion failed) _src.depth() == CV_8U in function 'cv::Canny'\n",
      "\n"
     ]
    }
   ],
   "source": [
    "run_all_img(imagenes_gris, template_list)"
   ]
  }
 ],
 "metadata": {
  "kernelspec": {
   "display_name": ".venv (3.12.8)",
   "language": "python",
   "name": "python3"
  },
  "language_info": {
   "codemirror_mode": {
    "name": "ipython",
    "version": 3
   },
   "file_extension": ".py",
   "mimetype": "text/x-python",
   "name": "python",
   "nbconvert_exporter": "python",
   "pygments_lexer": "ipython3",
   "version": "3.12.8"
  }
 },
 "nbformat": 4,
 "nbformat_minor": 5
}
