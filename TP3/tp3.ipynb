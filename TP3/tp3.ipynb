{
 "cells": [
  {
   "cell_type": "code",
   "execution_count": 105,
   "id": "8065264f",
   "metadata": {},
   "outputs": [],
   "source": [
    "#Si queremos que las imágenes sean mostradas en una ventana emergente quitar el inline\n",
    "# %matplotlib inline\n",
    "%matplotlib qt\n",
    "import numpy as np\n",
    "import cv2 as cv\n",
    "import os\n",
    "from typing import List\n",
    "import matplotlib.pyplot as plt"
   ]
  },
  {
   "cell_type": "code",
   "execution_count": 106,
   "id": "f3e958de",
   "metadata": {},
   "outputs": [],
   "source": [
    "def custom_pyramid(img, scales: List[float]) -> list:\n",
    "    img_copy = img.copy()\n",
    "\n",
    "    resized_imgs = list()\n",
    "\n",
    "    # generamos nuestra \"piramide\" de tamaños arbitrarios\n",
    "    for scale in scales:\n",
    "        resized_imgs.append(cv.resize(img_copy, None, fx=scale, fy=scale))\n",
    "        \n",
    "    return resized_imgs"
   ]
  },
  {
   "cell_type": "code",
   "execution_count": 107,
   "id": "45db163a",
   "metadata": {},
   "outputs": [
    {
     "name": "stdout",
     "output_type": "stream",
     "text": [
      "Se leyeron 7 imágenes en blanco y negro\n"
     ]
    }
   ],
   "source": [
    "# Ruta de la carpeta con las imágenes\n",
    "directorio = \"./images\"\n",
    "\n",
    "# Lista para guardar las imágenes en gris\n",
    "imagenes_gris = []\n",
    "\n",
    "# Recorremos los archivos del directorio\n",
    "for archivo in os.listdir(directorio):\n",
    "    ruta_completa = os.path.join(directorio, archivo)\n",
    "\n",
    "    # Verificamos que sea un archivo y termine en una extensión de imagen\n",
    "    if os.path.isfile(ruta_completa) and archivo.lower().endswith(('.png', '.jpg')):\n",
    "        img = cv.imread(ruta_completa)#, cv.IMREAD_GRAYSCALE)\n",
    "        if img is not None:\n",
    "            imagenes_gris.append(img)\n",
    "        else:\n",
    "            print(f\"No se pudo leer la imagen: {archivo}\")\n",
    "\n",
    "print(f\"Se leyeron {len(imagenes_gris)} imágenes en blanco y negro\")"
   ]
  },
  {
   "cell_type": "code",
   "execution_count": 108,
   "id": "b0514667",
   "metadata": {},
   "outputs": [],
   "source": [
    "# img_aux = []\n",
    "# for img4 in imagenes_gris:\n",
    "#     img_aux.extend(custom_pyramid(img4, np.linspace(0.2, 2, 10)))\n",
    "# imagenes_gris = img_aux"
   ]
  },
  {
   "cell_type": "code",
   "execution_count": 109,
   "id": "5d32c7bd",
   "metadata": {},
   "outputs": [],
   "source": [
    "template = cv.imread('./template/pattern.png',0)"
   ]
  },
  {
   "cell_type": "code",
   "execution_count": 110,
   "id": "117ab3ff",
   "metadata": {},
   "outputs": [],
   "source": [
    "template_list = custom_pyramid(template, np.linspace(0.2, 2, 10))"
   ]
  },
  {
   "cell_type": "code",
   "execution_count": 111,
   "id": "06d223b8",
   "metadata": {},
   "outputs": [
    {
     "data": {
      "text/plain": [
       "10"
      ]
     },
     "execution_count": 111,
     "metadata": {},
     "output_type": "execute_result"
    }
   ],
   "source": [
    "len(template_list)"
   ]
  },
  {
   "cell_type": "code",
   "execution_count": 112,
   "id": "ff8c0720",
   "metadata": {},
   "outputs": [],
   "source": [
    "def match_template(img3, template):\n",
    "    img_copy1 = img3.copy()\n",
    "    template_copy = template.copy()\n",
    "    w, h = template.shape[::-1]\n",
    "\n",
    "    # --- Desenfoque Gaussiano ---\n",
    "    img_blur = cv.GaussianBlur(img_copy1, (5,5), 0)\n",
    "    template_blur = cv.GaussianBlur(template_copy, (5,5), 0)\n",
    "\n",
    "    # --- Bordes con Canny ---\n",
    "    img_edges = cv.Canny(img_blur, 50, 150)\n",
    "    template_edges = cv.Canny(template_blur, 50, 150)\n",
    "\n",
    "\n",
    "    # print(f\"Buscando plantilla de tamaño {template_edges.shape[0]}x{template_edges.shape[1]} en imagen de tamaño {img_edges.shape[0]}x{img_edges.shape[1]}\")\n",
    "    res = cv.matchTemplate(img_edges, template_edges, cv.TM_CCOEFF_NORMED)\n",
    "    # Fijamos un umbral de \"coincidencia\"\n",
    "\n",
    "    threshold = 0.2\n",
    "    flag = False\n",
    "    loc = np.where( res >= threshold)\n",
    "    for pt in zip(*loc[::-1]):\n",
    "        cv.rectangle(img_copy1, pt, (pt[0] + w, pt[1] + h), (0,0,255), 2)\n",
    "        flag = True\n",
    "    \n",
    "    if flag:\n",
    "        return img_copy1\n",
    "    else:\n",
    "        return None"
   ]
  },
  {
   "cell_type": "code",
   "execution_count": 115,
   "id": "06729ae6",
   "metadata": {},
   "outputs": [],
   "source": [
    "def match_template2(img, template):\n",
    "    # --- Preprocesar template ---\n",
    "    template1 = template.copy()\n",
    "    # template_gray = cv.cvtColor(template, cv.COLOR_BGR2GRAY)\n",
    "    # template_blur = cv.GaussianBlur(template, (5,5), 0)\n",
    "    # template_edges = cv.Canny(template_blur, 40, 160)\n",
    "\n",
    "    best_val = -1\n",
    "    best_loc = None\n",
    "    best_scale_img = None\n",
    "    best_scale_temp = None\n",
    "    best_result = None\n",
    "\n",
    "    for scale_temp in np.linspace(0.25, 2, 10):\n",
    "\n",
    "        resized_template = cv.resize(template1, None, fx=scale_temp, fy=scale_temp)\n",
    "        template_blur = cv.GaussianBlur(resized_template, (5,5), 0)\n",
    "        template_edges = cv.Canny(template_blur, 40, 160)\n",
    "        h, w = template_edges.shape\n",
    "\n",
    "        # --- Recorrer pirámide de escalas ---\n",
    "        for scale in np.linspace(0.25, 3, 40):\n",
    "            resized = cv.resize(img, None, fx=scale, fy=scale)\n",
    "            if resized.shape[0] < h or resized.shape[1] < w:\n",
    "                continue  # saltar si el template no entra en la imagen\n",
    "\n",
    "            # Preprocesar imagen escalada\n",
    "            # img_gray = cv.cvtColor(resized, cv.COLOR_BGR2GRAY)\n",
    "            img_blur = cv.GaussianBlur(resized, (5,5), 0)\n",
    "            img_edges = cv.Canny(img_blur, 40, 160)\n",
    "\n",
    "            # Matching\n",
    "            result = cv.matchTemplate(img_edges, template_edges, cv.TM_CCOEFF_NORMED)\n",
    "            min_val, max_val, min_loc, max_loc = cv.minMaxLoc(result)\n",
    "            \n",
    "            if max_val > best_val:\n",
    "                best_val = max_val\n",
    "                best_loc = max_loc\n",
    "                best_scale_img = scale\n",
    "                best_scale_temp = scale_temp\n",
    "                best_result = resized.copy()\n",
    "                print(best_val)\n",
    "    # --- Verificar antes de dibujar ---\n",
    "    if best_loc is not None:\n",
    "        top_left = best_loc\n",
    "        bottom_right = (top_left[0] + w, top_left[1] + h)\n",
    "        cv.rectangle(best_result, top_left, bottom_right, (255, 0, 0), 2)\n",
    "        print(f\"Mejor coincidencia: {best_val:.4f} en escala {best_scale_img:.2f}. template escala {best_scale_temp:.2f}\")\n",
    "        # cv.imshow(\"Mejor resultado\", best_result)\n",
    "        # cv.waitKey(0)\n",
    "        # cv.destroyAllWindows()\n",
    "        return best_result\n",
    "    else:\n",
    "        print(\"No se encontró coincidencia.\")\n",
    "        return None"
   ]
  },
  {
   "cell_type": "code",
   "execution_count": 116,
   "id": "22774e14",
   "metadata": {},
   "outputs": [
    {
     "name": "stdout",
     "output_type": "stream",
     "text": [
      "0.11400703340768814\n",
      "0.13112451136112213\n",
      "0.1390770673751831\n",
      "0.1444597840309143\n",
      "0.15673968195915222\n"
     ]
    },
    {
     "ename": "KeyboardInterrupt",
     "evalue": "",
     "output_type": "error",
     "traceback": [
      "\u001b[31m---------------------------------------------------------------------------\u001b[39m",
      "\u001b[31mKeyboardInterrupt\u001b[39m                         Traceback (most recent call last)",
      "\u001b[36mCell\u001b[39m\u001b[36m \u001b[39m\u001b[32mIn[116]\u001b[39m\u001b[32m, line 3\u001b[39m\n\u001b[32m      1\u001b[39m l = []\n\u001b[32m      2\u001b[39m \u001b[38;5;28;01mfor\u001b[39;00m img_c \u001b[38;5;129;01min\u001b[39;00m imagenes_gris:\n\u001b[32m----> \u001b[39m\u001b[32m3\u001b[39m     l.append(\u001b[43mmatch_template2\u001b[49m\u001b[43m(\u001b[49m\u001b[43mimg_c\u001b[49m\u001b[43m,\u001b[49m\u001b[43m \u001b[49m\u001b[43mtemplate\u001b[49m\u001b[43m)\u001b[49m)\n",
      "\u001b[36mCell\u001b[39m\u001b[36m \u001b[39m\u001b[32mIn[115]\u001b[39m\u001b[32m, line 33\u001b[39m, in \u001b[36mmatch_template2\u001b[39m\u001b[34m(img, template)\u001b[39m\n\u001b[32m     30\u001b[39m img_edges = cv.Canny(img_blur, \u001b[32m40\u001b[39m, \u001b[32m160\u001b[39m)\n\u001b[32m     32\u001b[39m \u001b[38;5;66;03m# Matching\u001b[39;00m\n\u001b[32m---> \u001b[39m\u001b[32m33\u001b[39m result = \u001b[43mcv\u001b[49m\u001b[43m.\u001b[49m\u001b[43mmatchTemplate\u001b[49m\u001b[43m(\u001b[49m\u001b[43mimg_edges\u001b[49m\u001b[43m,\u001b[49m\u001b[43m \u001b[49m\u001b[43mtemplate_edges\u001b[49m\u001b[43m,\u001b[49m\u001b[43m \u001b[49m\u001b[43mcv\u001b[49m\u001b[43m.\u001b[49m\u001b[43mTM_CCOEFF_NORMED\u001b[49m\u001b[43m)\u001b[49m\n\u001b[32m     34\u001b[39m min_val, max_val, min_loc, max_loc = cv.minMaxLoc(result)\n\u001b[32m     36\u001b[39m \u001b[38;5;28;01mif\u001b[39;00m max_val > best_val:\n",
      "\u001b[31mKeyboardInterrupt\u001b[39m: "
     ]
    }
   ],
   "source": [
    "l = []\n",
    "for img_c in imagenes_gris:\n",
    "    l.append(match_template2(img_c, template))"
   ]
  },
  {
   "cell_type": "code",
   "execution_count": null,
   "id": "bd4b6047",
   "metadata": {},
   "outputs": [],
   "source": [
    "def search_template(img1, template_list):\n",
    "    img_copy5 = img1.copy()\n",
    "    result = []\n",
    "    for i, template in enumerate(template_list):\n",
    "        try:\n",
    "            img9 = match_template(img_copy5, template)\n",
    "            if img9 is not None:\n",
    "                result.append(img9)\n",
    "            # cv.imshow(f'Template Level {i}', img_copy)\n",
    "            # cv.waitKey(0)\n",
    "        except Exception as e:\n",
    "            # print(f\"Error processing template level {i}: {e}\")\n",
    "            continue\n",
    "    return result"
   ]
  },
  {
   "cell_type": "code",
   "execution_count": null,
   "id": "0c046814",
   "metadata": {},
   "outputs": [],
   "source": [
    "def run_all_img(img_list, template_list):\n",
    "    result = []\n",
    "    for img2 in img_list:\n",
    "        result.extend(search_template(img2, template_list))\n",
    "    return result"
   ]
  },
  {
   "cell_type": "code",
   "execution_count": null,
   "id": "3287aed2",
   "metadata": {},
   "outputs": [
    {
     "name": "stdout",
     "output_type": "stream",
     "text": [
      "7 10\n",
      "Buscando plantilla en imagen de tamaño 1389x1389\n",
      "Mejor coincidencia: 0.1847 en escala 2.22\n",
      "Mejor coincidencia: 0.1240 en escala 2.65\n",
      "Mejor coincidencia: 0.1072 en escala 2.15\n",
      "Mejor coincidencia: 0.1362 en escala 0.25\n",
      "Mejor coincidencia: 0.0959 en escala 0.32\n",
      "Mejor coincidencia: 0.0689 en escala 1.38\n",
      "Mejor coincidencia: 0.0636 en escala 2.22\n",
      "Mejor coincidencia: 0.0579 en escala 2.01\n",
      "Mejor coincidencia: 0.0511 en escala 2.86\n"
     ]
    },
    {
     "ename": "KeyboardInterrupt",
     "evalue": "",
     "output_type": "error",
     "traceback": [
      "\u001b[31m---------------------------------------------------------------------------\u001b[39m",
      "\u001b[31mKeyboardInterrupt\u001b[39m                         Traceback (most recent call last)",
      "\u001b[36mCell\u001b[39m\u001b[36m \u001b[39m\u001b[32mIn[101]\u001b[39m\u001b[32m, line 1\u001b[39m\n\u001b[32m----> \u001b[39m\u001b[32m1\u001b[39m r = \u001b[43mrun_all_img\u001b[49m\u001b[43m(\u001b[49m\u001b[43mimagenes_gris\u001b[49m\u001b[43m,\u001b[49m\u001b[43m \u001b[49m\u001b[43mtemplate_list\u001b[49m\u001b[43m)\u001b[49m\n",
      "\u001b[36mCell\u001b[39m\u001b[36m \u001b[39m\u001b[32mIn[92]\u001b[39m\u001b[32m, line 5\u001b[39m, in \u001b[36mrun_all_img\u001b[39m\u001b[34m(img_list, template_list)\u001b[39m\n\u001b[32m      3\u001b[39m \u001b[38;5;28mprint\u001b[39m(\u001b[38;5;28mlen\u001b[39m(img_list), \u001b[38;5;28mlen\u001b[39m(template_list))\n\u001b[32m      4\u001b[39m \u001b[38;5;28;01mfor\u001b[39;00m img2 \u001b[38;5;129;01min\u001b[39;00m img_list:\n\u001b[32m----> \u001b[39m\u001b[32m5\u001b[39m     result.extend(\u001b[43msearch_template\u001b[49m\u001b[43m(\u001b[49m\u001b[43mimg2\u001b[49m\u001b[43m,\u001b[49m\u001b[43m \u001b[49m\u001b[43mtemplate_list\u001b[49m\u001b[43m)\u001b[49m)\n\u001b[32m      6\u001b[39m \u001b[38;5;28;01mreturn\u001b[39;00m result\n",
      "\u001b[36mCell\u001b[39m\u001b[36m \u001b[39m\u001b[32mIn[94]\u001b[39m\u001b[32m, line 7\u001b[39m, in \u001b[36msearch_template\u001b[39m\u001b[34m(img1, template_list)\u001b[39m\n\u001b[32m      5\u001b[39m \u001b[38;5;28;01mfor\u001b[39;00m i, template \u001b[38;5;129;01min\u001b[39;00m \u001b[38;5;28menumerate\u001b[39m(template_list):\n\u001b[32m      6\u001b[39m     \u001b[38;5;28;01mtry\u001b[39;00m:\n\u001b[32m----> \u001b[39m\u001b[32m7\u001b[39m         img9 = \u001b[43mmatch_template2\u001b[49m\u001b[43m(\u001b[49m\u001b[43mimg_copy5\u001b[49m\u001b[43m,\u001b[49m\u001b[43m \u001b[49m\u001b[43mtemplate\u001b[49m\u001b[43m)\u001b[49m\n\u001b[32m      8\u001b[39m         \u001b[38;5;28;01mif\u001b[39;00m img9 \u001b[38;5;129;01mis\u001b[39;00m \u001b[38;5;129;01mnot\u001b[39;00m \u001b[38;5;28;01mNone\u001b[39;00m:\n\u001b[32m      9\u001b[39m             result.append(img9)\n",
      "\u001b[36mCell\u001b[39m\u001b[36m \u001b[39m\u001b[32mIn[100]\u001b[39m\u001b[32m, line 26\u001b[39m, in \u001b[36mmatch_template2\u001b[39m\u001b[34m(img, template1)\u001b[39m\n\u001b[32m     23\u001b[39m img_edges = cv.Canny(img_blur, \u001b[32m40\u001b[39m, \u001b[32m160\u001b[39m)\n\u001b[32m     25\u001b[39m \u001b[38;5;66;03m# Matching\u001b[39;00m\n\u001b[32m---> \u001b[39m\u001b[32m26\u001b[39m result = \u001b[43mcv\u001b[49m\u001b[43m.\u001b[49m\u001b[43mmatchTemplate\u001b[49m\u001b[43m(\u001b[49m\u001b[43mimg_edges\u001b[49m\u001b[43m,\u001b[49m\u001b[43m \u001b[49m\u001b[43mtemplate_edges\u001b[49m\u001b[43m,\u001b[49m\u001b[43m \u001b[49m\u001b[43mcv\u001b[49m\u001b[43m.\u001b[49m\u001b[43mTM_CCOEFF_NORMED\u001b[49m\u001b[43m)\u001b[49m\n\u001b[32m     27\u001b[39m min_val, max_val, min_loc, max_loc = cv.minMaxLoc(result)\n\u001b[32m     29\u001b[39m \u001b[38;5;28;01mif\u001b[39;00m max_val > best_val:\n",
      "\u001b[31mKeyboardInterrupt\u001b[39m: "
     ]
    }
   ],
   "source": [
    "r = run_all_img(imagenes_gris, template_list)"
   ]
  },
  {
   "cell_type": "code",
   "execution_count": null,
   "id": "24f84e9a",
   "metadata": {},
   "outputs": [
    {
     "data": {
      "text/plain": [
       "0"
      ]
     },
     "execution_count": 78,
     "metadata": {},
     "output_type": "execute_result"
    }
   ],
   "source": [
    "len(r)"
   ]
  },
  {
   "cell_type": "code",
   "execution_count": null,
   "id": "406399f3",
   "metadata": {},
   "outputs": [
    {
     "ename": "IndexError",
     "evalue": "list index out of range",
     "output_type": "error",
     "traceback": [
      "\u001b[31m---------------------------------------------------------------------------\u001b[39m",
      "\u001b[31mIndexError\u001b[39m                                Traceback (most recent call last)",
      "\u001b[36mCell\u001b[39m\u001b[36m \u001b[39m\u001b[32mIn[79]\u001b[39m\u001b[32m, line 1\u001b[39m\n\u001b[32m----> \u001b[39m\u001b[32m1\u001b[39m cv.imshow(\u001b[33mf\u001b[39m\u001b[33m'\u001b[39m\u001b[33mTemplate Level\u001b[39m\u001b[33m'\u001b[39m, \u001b[43mr\u001b[49m\u001b[43m[\u001b[49m\u001b[32;43m0\u001b[39;49m\u001b[43m]\u001b[49m)\n",
      "\u001b[31mIndexError\u001b[39m: list index out of range"
     ]
    }
   ],
   "source": [
    "cv.imshow(f'Template Level', r[0])"
   ]
  },
  {
   "cell_type": "code",
   "execution_count": null,
   "id": "e16f55f0",
   "metadata": {},
   "outputs": [],
   "source": []
  }
 ],
 "metadata": {
  "kernelspec": {
   "display_name": "env",
   "language": "python",
   "name": "python3"
  },
  "language_info": {
   "codemirror_mode": {
    "name": "ipython",
    "version": 3
   },
   "file_extension": ".py",
   "mimetype": "text/x-python",
   "name": "python",
   "nbconvert_exporter": "python",
   "pygments_lexer": "ipython3",
   "version": "3.13.3"
  }
 },
 "nbformat": 4,
 "nbformat_minor": 5
}
