{
 "cells": [
  {
   "cell_type": "code",
   "execution_count": 10,
   "id": "832637b3",
   "metadata": {},
   "outputs": [],
   "source": [
    "import cv2 as cv\n",
    "import numpy as np\n",
    "import os"
   ]
  },
  {
   "cell_type": "markdown",
   "id": "e3edbfc0",
   "metadata": {},
   "source": [
    "### **Generalización para múltiples detecciones de un mismo template**\n",
    "\n",
    "Abarca items 1, 2 y 3."
   ]
  },
  {
   "cell_type": "code",
   "execution_count": 11,
   "id": "856d40ba",
   "metadata": {},
   "outputs": [
    {
     "name": "stdout",
     "output_type": "stream",
     "text": [
      "Se leyeron 7 imágenes\n"
     ]
    }
   ],
   "source": [
    "# --- Ruta de la carpeta con las imágenes ---\n",
    "directorio = \"./images\"\n",
    "\n",
    "# --- Mejores escalas encontradas ---\n",
    "scales = {\n",
    "    'COCA-COLA-LOGO.jpg': 0.31,\n",
    "    'coca_multi.png': 4.03,\n",
    "    'coca_logo_1.png': 2.3,\n",
    "    'coca_retro_1.png': 0.76,\n",
    "    'logo_1.png': 1.34,\n",
    "    'coca_logo_2.png': 1.77,\n",
    "    'coca_retro_2.png': 2.49\n",
    "}\n",
    "\n",
    "# --- Lista para guardar las imágenes ---\n",
    "imagenes = []\n",
    "\n",
    "# --- Recorremos los archivos del directorio ---\n",
    "for archivo in os.listdir(directorio):\n",
    "    ruta_completa = os.path.join(directorio, archivo)\n",
    "\n",
    "    # --- Verificamos que sea un archivo y termine en una extensión de imagen ---\n",
    "    if os.path.isfile(ruta_completa) and archivo.lower().endswith(('.png', '.jpg')):\n",
    "        img = cv.imread(ruta_completa)\n",
    "        scale = scales[archivo]\n",
    "        img = cv.resize(img, None, fx=scale, fy=scale)\n",
    "        if img is not None:\n",
    "            imagenes.append(img)\n",
    "        else:\n",
    "            print(f\"No se pudo leer la imagen: {archivo}\")\n",
    "\n",
    "print(f\"Se leyeron {len(imagenes)} imágenes\")"
   ]
  },
  {
   "cell_type": "code",
   "execution_count": 12,
   "id": "980502eb",
   "metadata": {},
   "outputs": [],
   "source": [
    "def preproc_img(img):\n",
    "    img_gray = cv.cvtColor(img, cv.COLOR_BGR2GRAY)\n",
    "    img_blur = cv.GaussianBlur(img_gray, (5,5), 0)\n",
    "    img_edges = cv.Canny(img_blur, 50, 150)\n",
    "    return img_edges"
   ]
  },
  {
   "cell_type": "code",
   "execution_count": null,
   "id": "0c48bb75",
   "metadata": {},
   "outputs": [
    {
     "name": "stdout",
     "output_type": "stream",
     "text": [
      "Mejor coincidencia: 0.0925\n",
      "Mejor coincidencia: 0.1098\n",
      "Mejor coincidencia: 0.2993\n",
      "Mejor coincidencia: 0.0902\n",
      "Mejor coincidencia: 0.1168\n",
      "Mejor coincidencia: 0.0832\n",
      "Mejor coincidencia: 0.1687\n"
     ]
    },
    {
     "ename": "",
     "evalue": "",
     "output_type": "error",
     "traceback": [
      "\u001b[1;31mThe Kernel crashed while executing code in the current cell or a previous cell. \n",
      "\u001b[1;31mPlease review the code in the cell(s) to identify a possible cause of the failure. \n",
      "\u001b[1;31mClick <a href='https://aka.ms/vscodeJupyterKernelCrash'>here</a> for more info. \n",
      "\u001b[1;31mView Jupyter <a href='command:jupyter.viewOutput'>log</a> for further details."
     ]
    }
   ],
   "source": [
    "# --- Cargar template ---\n",
    "template = cv.imread(\"./template/pattern.png\")\n",
    "\n",
    "# --- Preprocesar template ---\n",
    "template_preproc = preproc_img(template)\n",
    "\n",
    "for img in imagenes:\n",
    "    h, w = template_preproc.shape\n",
    "\n",
    "    # Preprocesar imagen escalada\n",
    "    img_preproc = preproc_img(img)\n",
    "\n",
    "    # Matching\n",
    "    result = cv.matchTemplate(img_preproc, template_preproc, cv.TM_CCOEFF_NORMED)\n",
    "\n",
    "    # Los matches encontrados estaban por encima del 0.07\n",
    "    threshold = 0.07\n",
    "\n",
    "    loc = np.where(result >= threshold)\n",
    "    rects = []\n",
    "\n",
    "    for pt in zip(*loc[::-1]):\n",
    "        rects.append([pt[0], pt[1], w, h])\n",
    "\n",
    "    # Agrupar rectángulos que se solapan\n",
    "    rects, weights = cv.groupRectangles(rects, groupThreshold=1, eps=0.5)\n",
    "\n",
    "    for (x, y, w, h) in rects:\n",
    "        cv.rectangle(img, (x, y), (x + w, y + h), (255, 0, 0), 2)\n",
    "\n",
    "    # Obtener mejor resultado\n",
    "    _, max_val, _, max_loc = cv.minMaxLoc(result)\n",
    "    print(f\"Mejor coincidencia: {max_val:.4f}\")\n",
    "    cv.imshow(\"Mejor resultado\", img)\n",
    "    cv.waitKey(0)\n",
    "    cv.destroyAllWindows()"
   ]
  },
  {
   "cell_type": "markdown",
   "id": "f80ce9d4",
   "metadata": {},
   "source": [
    "### **Conclusiones**\n",
    "\n",
    "Se realizó un resize de las imágenes objetivos realizando primero una serie de pruebas para encontrar la escala que tuviera el mejor resultado para un match del template, obteniendo las siguientes escalas para cada imagen:\n",
    "\n",
    "- COCA-COLA-LOGO.jpg: 0.31\n",
    "- coca_multi.png: 4.03\n",
    "- coca_logo_1.png: 2.3\n",
    "- coca_retro_1.png: 0.76\n",
    "- logo_1.png: 1.34\n",
    "- coca_logo_2.png: 1.77\n",
    "- coca_retro_2.png: 2.49\n",
    "\n",
    "Luego se realizó un preprocesamiento de tanto el template como las imágenes usando primero conversión a escala de grises, desenfoque Gaussiano y detección de bordes mediante método de Canny.\n",
    "\n",
    "Finalmente se unificó el código para agrupar todos recuadros de los matches de manera de no tener superposiciones y se mostró la mejor correlación obtenida, que tuviera sentido al ver el recuadro en la imagen. Esto se menciona porque aunque se obtuvieron correlaciones más altas en diferentes pruebas, por ejemplo al usar pirámides sobre los templates, al mostrar el recuadro el match no era correcto con el logo deseado."
   ]
  }
 ],
 "metadata": {
  "kernelspec": {
   "display_name": "env",
   "language": "python",
   "name": "python3"
  },
  "language_info": {
   "codemirror_mode": {
    "name": "ipython",
    "version": 3
   },
   "file_extension": ".py",
   "mimetype": "text/x-python",
   "name": "python",
   "nbconvert_exporter": "python",
   "pygments_lexer": "ipython3",
   "version": "3.13.3"
  }
 },
 "nbformat": 4,
 "nbformat_minor": 5
}
