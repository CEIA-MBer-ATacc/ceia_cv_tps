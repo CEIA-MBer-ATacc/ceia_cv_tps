{
 "cells": [
  {
   "cell_type": "code",
   "execution_count": 2,
   "id": "832637b3",
   "metadata": {},
   "outputs": [],
   "source": [
    "import cv2 as cv\n",
    "import numpy as np\n",
    "import os"
   ]
  },
  {
   "cell_type": "code",
   "execution_count": 3,
   "id": "856d40ba",
   "metadata": {},
   "outputs": [
    {
     "name": "stdout",
     "output_type": "stream",
     "text": [
      "Se leyeron 7 imágenes en blanco y negro\n"
     ]
    }
   ],
   "source": [
    "# Ruta de la carpeta con las imágenes\n",
    "directorio = \"./images\"\n",
    "\n",
    "# Lista para guardar las imágenes\n",
    "imagenes = []\n",
    "\n",
    "# Recorremos los archivos del directorio\n",
    "for archivo in os.listdir(directorio):\n",
    "    ruta_completa = os.path.join(directorio, archivo)\n",
    "\n",
    "    # Verificamos que sea un archivo y termine en una extensión de imagen\n",
    "    if os.path.isfile(ruta_completa) and archivo.lower().endswith(('.png', '.jpg')):\n",
    "        img = cv.imread(ruta_completa)\n",
    "        if img is not None:\n",
    "            imagenes.append(img)\n",
    "        else:\n",
    "            print(f\"No se pudo leer la imagen: {archivo}\")\n",
    "\n",
    "print(f\"Se leyeron {len(imagenes)} imágenes en blanco y negro\")"
   ]
  },
  {
   "cell_type": "code",
   "execution_count": 5,
   "id": "0c48bb75",
   "metadata": {},
   "outputs": [
    {
     "name": "stdout",
     "output_type": "stream",
     "text": [
      "Mejor coincidencia: 0.0919 en escala 0.32\n",
      "Mejor coincidencia: 0.3035 en escala 2.29\n",
      "Mejor coincidencia: 0.0732 en escala 2.93\n",
      "Mejor coincidencia: 0.0834 en escala 2.86\n",
      "Mejor coincidencia: 0.1096 en escala 0.74\n",
      "Mejor coincidencia: 0.1584 en escala 2.51\n",
      "Mejor coincidencia: 0.1045 en escala 1.45\n"
     ]
    }
   ],
   "source": [
    "# --- Cargar template ---\n",
    "template = cv.imread(\"./template/pattern.png\")\n",
    "\n",
    "# --- Preprocesar template ---\n",
    "template_gray = cv.cvtColor(template, cv.COLOR_BGR2GRAY)\n",
    "template_blur = cv.GaussianBlur(template_gray, (3,3), 0)\n",
    "template_edges = cv.Canny(template_blur, 40, 160)\n",
    "\n",
    "for img in imagenes:\n",
    "    h, w = template_edges.shape\n",
    "    best_val = -1\n",
    "    best_loc = None\n",
    "    best_scale = None\n",
    "    best_result = None\n",
    "\n",
    "    # --- Recorrer pirámide de escalas ---\n",
    "    for scale in np.linspace(0.25, 3, 40):\n",
    "        resized = cv.resize(img, None, fx=scale, fy=scale)\n",
    "        if resized.shape[0] < h or resized.shape[1] < w:\n",
    "            continue  # saltar si el template no entra en la imagen\n",
    "\n",
    "        # Preprocesar imagen escalada\n",
    "        img_gray = cv.cvtColor(resized, cv.COLOR_BGR2GRAY)\n",
    "        img_blur = cv.GaussianBlur(img_gray, (3,3), 0)\n",
    "        img_edges = cv.Canny(img_blur, 40, 160)\n",
    "\n",
    "        # Matching\n",
    "        result = cv.matchTemplate(img_edges, template_edges, cv.TM_CCOEFF_NORMED)\n",
    "        min_val, max_val, min_loc, max_loc = cv.minMaxLoc(result)\n",
    "\n",
    "        if max_val > best_val:\n",
    "            best_val = max_val\n",
    "            best_loc = max_loc\n",
    "            best_scale = scale\n",
    "            best_result = resized.copy()\n",
    "\n",
    "    # --- Verificar antes de dibujar ---\n",
    "    if best_loc is not None:\n",
    "        top_left = best_loc\n",
    "        bottom_right = (top_left[0] + w, top_left[1] + h)\n",
    "        cv.rectangle(best_result, top_left, bottom_right, (255, 0, 0), 2)\n",
    "        print(f\"Mejor coincidencia: {best_val:.4f} en escala {best_scale:.2f}\")\n",
    "        cv.imshow(\"Mejor resultado\", best_result)\n",
    "        cv.waitKey(0)\n",
    "        cv.destroyAllWindows()\n",
    "    else:\n",
    "        print(\"No se encontró coincidencia.\")"
   ]
  },
  {
   "cell_type": "code",
   "execution_count": null,
   "id": "900744ad",
   "metadata": {},
   "outputs": [],
   "source": []
  }
 ],
 "metadata": {
  "kernelspec": {
   "display_name": "env",
   "language": "python",
   "name": "python3"
  },
  "language_info": {
   "codemirror_mode": {
    "name": "ipython",
    "version": 3
   },
   "file_extension": ".py",
   "mimetype": "text/x-python",
   "name": "python",
   "nbconvert_exporter": "python",
   "pygments_lexer": "ipython3",
   "version": "3.13.3"
  }
 },
 "nbformat": 4,
 "nbformat_minor": 5
}
