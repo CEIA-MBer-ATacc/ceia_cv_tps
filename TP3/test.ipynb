{
 "cells": [
  {
   "cell_type": "code",
   "execution_count": 1,
   "id": "832637b3",
   "metadata": {},
   "outputs": [],
   "source": [
    "import cv2 as cv\n",
    "import numpy as np\n",
    "import os"
   ]
  },
  {
   "cell_type": "code",
   "execution_count": 2,
   "id": "856d40ba",
   "metadata": {},
   "outputs": [
    {
     "name": "stdout",
     "output_type": "stream",
     "text": [
      "Se leyeron 7 imágenes en blanco y negro\n"
     ]
    }
   ],
   "source": [
    "# Ruta de la carpeta con las imágenes\n",
    "directorio = \"./images\"\n",
    "\n",
    "# Lista para guardar las imágenes\n",
    "imagenes = []\n",
    "\n",
    "# Recorremos los archivos del directorio\n",
    "for archivo in os.listdir(directorio):\n",
    "    ruta_completa = os.path.join(directorio, archivo)\n",
    "\n",
    "    # Verificamos que sea un archivo y termine en una extensión de imagen\n",
    "    if os.path.isfile(ruta_completa) and archivo.lower().endswith(('.png', '.jpg')):\n",
    "        img = cv.imread(ruta_completa)\n",
    "        if img is not None:\n",
    "            imagenes.append(img)\n",
    "        else:\n",
    "            print(f\"No se pudo leer la imagen: {archivo}\")\n",
    "\n",
    "print(f\"Se leyeron {len(imagenes)} imágenes en blanco y negro\")"
   ]
  },
  {
   "cell_type": "code",
   "execution_count": 3,
   "id": "0c48bb75",
   "metadata": {},
   "outputs": [
    {
     "name": "stdout",
     "output_type": "stream",
     "text": [
<<<<<<< Updated upstream
      "Mejor coincidencia: 0.0871 en escala 4.71\n"
     ]
    },
    {
     "ename": "KeyboardInterrupt",
     "evalue": "",
     "output_type": "error",
     "traceback": [
      "\u001b[31m---------------------------------------------------------------------------\u001b[39m",
      "\u001b[31mKeyboardInterrupt\u001b[39m                         Traceback (most recent call last)",
      "\u001b[36mCell\u001b[39m\u001b[36m \u001b[39m\u001b[32mIn[4]\u001b[39m\u001b[32m, line 28\u001b[39m\n\u001b[32m     25\u001b[39m img_edges = cv.Canny(img_blur, \u001b[32m50\u001b[39m, \u001b[32m150\u001b[39m)\n\u001b[32m     27\u001b[39m \u001b[38;5;66;03m# Matching\u001b[39;00m\n\u001b[32m---> \u001b[39m\u001b[32m28\u001b[39m result = \u001b[43mcv\u001b[49m\u001b[43m.\u001b[49m\u001b[43mmatchTemplate\u001b[49m\u001b[43m(\u001b[49m\u001b[43mimg_edges\u001b[49m\u001b[43m,\u001b[49m\u001b[43m \u001b[49m\u001b[43mtemplate_edges\u001b[49m\u001b[43m,\u001b[49m\u001b[43m \u001b[49m\u001b[43mcv\u001b[49m\u001b[43m.\u001b[49m\u001b[43mTM_CCOEFF_NORMED\u001b[49m\u001b[43m)\u001b[49m\n\u001b[32m     29\u001b[39m min_val, max_val, min_loc, max_loc = cv.minMaxLoc(result)\n\u001b[32m     31\u001b[39m \u001b[38;5;28;01mif\u001b[39;00m max_val > best_val:\n",
      "\u001b[31mKeyboardInterrupt\u001b[39m: "
     ]
    },
    {
     "ename": "",
     "evalue": "",
     "output_type": "error",
     "traceback": [
      "\u001b[1;31mThe Kernel crashed while executing code in the current cell or a previous cell. \n",
      "\u001b[1;31mPlease review the code in the cell(s) to identify a possible cause of the failure. \n",
      "\u001b[1;31mClick <a href='https://aka.ms/vscodeJupyterKernelCrash'>here</a> for more info. \n",
      "\u001b[1;31mView Jupyter <a href='command:jupyter.viewOutput'>log</a> for further details."
=======
      "Mejor coincidencia: 0.0731 en escala 1.73\n",
      "Mejor coincidencia: 0.0802 en escala 2.00\n",
      "Mejor coincidencia: 0.0819 en escala 1.78\n",
      "Mejor coincidencia: 0.0609 en escala 0.83\n",
      "Mejor coincidencia: 0.1080 en escala 0.74\n",
      "Mejor coincidencia: 0.0783 en escala 1.78\n",
      "Mejor coincidencia: 0.1079 en escala 1.33\n"
>>>>>>> Stashed changes
     ]
    }
   ],
   "source": [
    "# --- Cargar template ---\n",
    "template = cv.imread(\"./template/pattern.png\")\n",
    "\n",
    "# --- Preprocesar template ---\n",
    "template_gray = cv.cvtColor(template, cv.COLOR_BGR2GRAY)\n",
    "template_blur = cv.GaussianBlur(template_gray, (5,5), 0)\n",
    "template_edges = cv.Canny(template_blur, 50, 150)\n",
    "\n",
    "for img in imagenes:\n",
    "    h, w = template_edges.shape\n",
    "    best_val = -1\n",
    "    best_loc = None\n",
    "    best_scale = None\n",
    "    best_result = None\n",
    "\n",
    "    # --- Recorrer pirámide de escalas ---\n",
    "    for scale in np.linspace(0.25, 3, 40):\n",
    "        resized = cv.resize(img, None, fx=scale, fy=scale)\n",
    "        if resized.shape[0] < h or resized.shape[1] < w:\n",
    "            continue  # saltar si el template no entra en la imagen\n",
    "\n",
    "        # Preprocesar imagen escalada\n",
    "        img_gray = cv.cvtColor(resized, cv.COLOR_BGR2GRAY)\n",
    "        img_blur = cv.GaussianBlur(img_gray, (5,5), 0)\n",
    "        img_edges = cv.Canny(img_blur, 50, 150)\n",
    "\n",
    "        # Matching\n",
    "        result = cv.matchTemplate(img_edges, template_edges, cv.TM_CCOEFF_NORMED)\n",
    "        min_val, max_val, min_loc, max_loc = cv.minMaxLoc(result)\n",
    "\n",
    "        if max_val > best_val:\n",
    "            best_val = max_val\n",
    "            best_loc = max_loc\n",
    "            best_scale = scale\n",
    "            best_result = resized.copy()\n",
    "\n",
    "    # --- Verificar antes de dibujar ---\n",
    "    if best_loc is not None:\n",
    "        top_left = best_loc\n",
    "        bottom_right = (top_left[0] + w, top_left[1] + h)\n",
    "        cv.rectangle(best_result, top_left, bottom_right, (255, 0, 0), 2)\n",
    "        print(f\"Mejor coincidencia: {best_val:.4f} en escala {best_scale:.2f}\")\n",
    "        cv.imshow(\"Mejor resultado\", best_result)\n",
    "        cv.waitKey(0)\n",
    "        cv.destroyAllWindows()\n",
    "    else:\n",
    "        print(\"No se encontró coincidencia.\")"
   ]
  }
 ],
 "metadata": {
  "kernelspec": {
   "display_name": "env",
   "language": "python",
   "name": "python3"
  },
  "language_info": {
   "codemirror_mode": {
    "name": "ipython",
    "version": 3
   },
   "file_extension": ".py",
   "mimetype": "text/x-python",
   "name": "python",
   "nbconvert_exporter": "python",
   "pygments_lexer": "ipython3",
   "version": "3.13.3"
  }
 },
 "nbformat": 4,
 "nbformat_minor": 5
}
