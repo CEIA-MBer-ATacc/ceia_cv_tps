{
 "cells": [
  {
   "cell_type": "markdown",
   "id": "6f7a9883",
   "metadata": {},
   "source": [
    "# **Trabajo práctico 1**\n",
    "\n",
    "Integrantes:\n",
    "\n",
    "- Maximiliano José Bernardo.\n",
    "- Alejandro Nicolás Tacchella.\n",
    "\n",
    "Parte 1 (imágenes en /white_patch):\n",
    "1. Implementar el algoritmo White Patch para librarnos de las diferencias de color de iluminación.\n",
    "2. Mostrar los resultados obtenidos y analizar las posibles fallas (si es que las hay) en el caso de\n",
    "White patch.\n",
    "\n",
    "**Resolución en white_patch/white-patch.ipynb**\n",
    "\n",
    "Parte 2:\n",
    "1. Para las imágenes img1_tp.png y img2_tp.png leerlas con OpenCV en escala de grisas y\n",
    "visualizarlas.\n",
    "2. Elija el numero de bins que crea conveniente y grafique su histograma, compare los histogramas\n",
    "entre si. Explicar lo que se observa, si tuviera que entrenar un modelo de clasificación/detección\n",
    "de imágenes, considera que puede ser de utilidad tomar como ‘features’ a los histogramas?\n",
    "\n",
    "**Resolución en grey.ipynb**"
   ]
  }
 ],
 "metadata": {
  "language_info": {
   "name": "python"
  }
 },
 "nbformat": 4,
 "nbformat_minor": 5
}
